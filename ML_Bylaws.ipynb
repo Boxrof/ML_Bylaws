{
  "nbformat": 4,
  "nbformat_minor": 0,
  "metadata": {
    "colab": {
      "name": "ML Bylaws",
      "provenance": [],
      "mount_file_id": "1IjG7Wougdg1OlhsBvOb_xjctgTQ_uvHW",
      "authorship_tag": "ABX9TyO+JF/HWqkP8WF/iwiJIGH3",
      "include_colab_link": true
    },
    "kernelspec": {
      "name": "python3",
      "display_name": "Python 3"
    },
    "language_info": {
      "name": "python"
    },
    "accelerator": "GPU"
  },
  "cells": [
    {
      "cell_type": "markdown",
      "metadata": {
        "id": "view-in-github",
        "colab_type": "text"
      },
      "source": [
        "<a href=\"https://colab.research.google.com/github/Boxrof/ML_Bylaws/blob/main/ML_Bylaws.ipynb\" target=\"_parent\"><img src=\"https://colab.research.google.com/assets/colab-badge.svg\" alt=\"Open In Colab\"/></a>"
      ]
    },
    {
      "cell_type": "markdown",
      "metadata": {
        "id": "U5xOb_WDsszS"
      },
      "source": [
        "#Using GPT"
      ]
    },
    {
      "cell_type": "code",
      "metadata": {
        "colab": {
          "base_uri": "https://localhost:8080/"
        },
        "id": "qDq6T9Ivtb9K",
        "outputId": "9ca0b342-91e5-4f91-8a09-8954ba9c8155"
      },
      "source": [
        "from google.colab import drive\n",
        "drive.mount('/content/drive', force_remount=True)"
      ],
      "execution_count": 1,
      "outputs": [
        {
          "output_type": "stream",
          "name": "stdout",
          "text": [
            "Mounted at /content/drive\n"
          ]
        }
      ]
    },
    {
      "cell_type": "code",
      "metadata": {
        "colab": {
          "base_uri": "https://localhost:8080/"
        },
        "id": "aKzV6it1tYD6",
        "outputId": "33b4a8ab-e75c-4643-dbdf-a92305ecd640"
      },
      "source": [
        "text = open(\"/content/drive/MyDrive/ML_Bylaws.txt\", 'rb').read().decode(encoding='utf-8')\n",
        "print(f'Length of text: {len(text)} characters')\n",
        "vocab = sorted(set(text))\n",
        "print(\"-\"*100)\n",
        "print(f'{len(vocab)} unique characters')"
      ],
      "execution_count": 2,
      "outputs": [
        {
          "output_type": "stream",
          "name": "stdout",
          "text": [
            "Length of text: 34927 characters\n",
            "----------------------------------------------------------------------------------------------------\n",
            "76 unique characters\n"
          ]
        }
      ]
    },
    {
      "cell_type": "code",
      "metadata": {
        "colab": {
          "base_uri": "https://localhost:8080/"
        },
        "id": "DjwppFj3wf_Y",
        "outputId": "3956d637-983c-4d4b-bd99-47ca6e85601b"
      },
      "source": [
        "%tensorflow_version 1.x\n",
        "!pip install -q gpt-2-simple\n",
        "import gpt_2_simple as gpt2\n",
        "from datetime import datetime\n",
        "from google.colab import files"
      ],
      "execution_count": 3,
      "outputs": [
        {
          "output_type": "stream",
          "name": "stdout",
          "text": [
            "TensorFlow 1.x selected.\n",
            "\u001b[K     |████████████████████████████████| 458.3 MB 8.4 kB/s \n",
            "\u001b[K     |████████████████████████████████| 462 kB 48.8 MB/s \n",
            "\u001b[K     |████████████████████████████████| 1.3 MB 40.3 MB/s \n",
            "\u001b[K     |████████████████████████████████| 5.8 MB 34.0 MB/s \n",
            "\u001b[?25h  Building wheel for gpt-2-simple (setup.py) ... \u001b[?25l\u001b[?25hdone\n"
          ]
        }
      ]
    },
    {
      "cell_type": "code",
      "metadata": {
        "colab": {
          "base_uri": "https://localhost:8080/"
        },
        "id": "IqHrW5RDlEBO",
        "outputId": "0630667d-a3ff-45f2-f9fe-ddc840d975d5"
      },
      "source": [
        "!nvidia-smi"
      ],
      "execution_count": 4,
      "outputs": [
        {
          "output_type": "stream",
          "name": "stdout",
          "text": [
            "Wed Oct 20 19:13:16 2021       \n",
            "+-----------------------------------------------------------------------------+\n",
            "| NVIDIA-SMI 470.74       Driver Version: 460.32.03    CUDA Version: 11.2     |\n",
            "|-------------------------------+----------------------+----------------------+\n",
            "| GPU  Name        Persistence-M| Bus-Id        Disp.A | Volatile Uncorr. ECC |\n",
            "| Fan  Temp  Perf  Pwr:Usage/Cap|         Memory-Usage | GPU-Util  Compute M. |\n",
            "|                               |                      |               MIG M. |\n",
            "|===============================+======================+======================|\n",
            "|   0  Tesla K80           Off  | 00000000:00:04.0 Off |                    0 |\n",
            "| N/A   46C    P8    30W / 149W |      0MiB / 11441MiB |      0%      Default |\n",
            "|                               |                      |                  N/A |\n",
            "+-------------------------------+----------------------+----------------------+\n",
            "                                                                               \n",
            "+-----------------------------------------------------------------------------+\n",
            "| Processes:                                                                  |\n",
            "|  GPU   GI   CI        PID   Type   Process name                  GPU Memory |\n",
            "|        ID   ID                                                   Usage      |\n",
            "|=============================================================================|\n",
            "|  No running processes found                                                 |\n",
            "+-----------------------------------------------------------------------------+\n"
          ]
        }
      ]
    },
    {
      "cell_type": "code",
      "metadata": {
        "colab": {
          "base_uri": "https://localhost:8080/"
        },
        "id": "-PeLEyLPyV0e",
        "outputId": "3de7fd2f-89c6-4c4c-db7a-9c798c1fd4eb"
      },
      "source": [
        "gpt2.download_gpt2(model_name=\"124M\")"
      ],
      "execution_count": 5,
      "outputs": [
        {
          "output_type": "stream",
          "name": "stderr",
          "text": [
            "Fetching checkpoint: 1.05Mit [00:00, 510Mit/s]                                                      \n",
            "Fetching encoder.json: 1.05Mit [00:00, 1.65Mit/s]\n",
            "Fetching hparams.json: 1.05Mit [00:00, 211Mit/s]                                                    \n",
            "Fetching model.ckpt.data-00000-of-00001: 498Mit [00:41, 12.0Mit/s]\n",
            "Fetching model.ckpt.index: 1.05Mit [00:00, 300Mit/s]                                                \n",
            "Fetching model.ckpt.meta: 1.05Mit [00:00, 1.93Mit/s]\n",
            "Fetching vocab.bpe: 1.05Mit [00:00, 1.91Mit/s]\n"
          ]
        }
      ]
    },
    {
      "cell_type": "code",
      "metadata": {
        "colab": {
          "base_uri": "https://localhost:8080/"
        },
        "id": "DQVDDFLqlO7O",
        "outputId": "2e44358a-f5dc-4789-9be1-6488fbfb710a"
      },
      "source": [
        "gpt2.mount_gdrive()"
      ],
      "execution_count": 6,
      "outputs": [
        {
          "output_type": "stream",
          "name": "stdout",
          "text": [
            "Drive already mounted at /content/drive; to attempt to forcibly remount, call drive.mount(\"/content/drive\", force_remount=True).\n"
          ]
        }
      ]
    },
    {
      "cell_type": "code",
      "metadata": {
        "id": "8yVcoJfLzxPF"
      },
      "source": [
        "file_name = \"ML_Bylaws.txt\""
      ],
      "execution_count": 7,
      "outputs": []
    },
    {
      "cell_type": "code",
      "metadata": {
        "id": "6Zk_h-UhlUv5"
      },
      "source": [
        "gpt2.copy_file_from_gdrive(file_name)"
      ],
      "execution_count": 8,
      "outputs": []
    },
    {
      "cell_type": "code",
      "metadata": {
        "id": "s0MXMt7nLVfi",
        "colab": {
          "base_uri": "https://localhost:8080/"
        },
        "outputId": "538dfc61-de4a-4fd0-9c19-a3b9d6676926"
      },
      "source": [
        "with open(file_name) as f:\n",
        "  print(f.read())"
      ],
      "execution_count": 18,
      "outputs": [
        {
          "output_type": "stream",
          "name": "stdout",
          "text": [
            "Bylaws of the International Relations Organization at the University of Virginia\n",
            "\n",
            "\n",
            "As adopted by the Executive Board at the Special Meeting on Wednesday, April 17, 2019\n",
            "As amended at the Executive Meeting on Sunday, April 11, 2021\n",
            "\n",
            "\n",
            "1. Clauses\n",
            "   1. Format of the Bylaws\n",
            "      1. Articles will be represented with uppercase Roman numerals.\n",
            "      2. Sections will be represented by uppercase English letters.\n",
            "      3. Subsections will be represented by Arabic numerals.\n",
            "      4. Parts will be represented by lowercase English letters.\n",
            "      5. Paragraphs will be represented by lowercase Roman numerals.\n",
            "   2. Abbreviations \n",
            "      1. The International Relations Organization at the University of Virginia may be abbreviated as the Organization or IRO.\n",
            "      2. The University of Virginia may be abbreviated as the University or UVA.\n",
            "      3. The title of Under-Secretary-General may be abbreviated as USG\n",
            "   3. Changes to the Bylaws\n",
            "      1. As prescribed in the Organization’s Constitution, changes to the Bylaws may be considered and voted upon at any Regular, Executive, Special, or Election meeting. \n",
            "      2. Any proposed changes must be submitted to the Secretary of the Organization at least seventy-two (72) hours before the meeting in which the changes are to be voted on. The submission must be shared as follows:\n",
            "         1. If the changes are to be voted on at an Executive meeting, the Secretary will share the proposal with the Executive Board at least forty-eight (48) hours before the meeting in which it will be voted on. \n",
            "         2. If the changes are to be voted on at a Regular, Special, or Election meeting, the Secretary will share the proposal with the General Body of the Organization at least forty-eight (48) hours before the meeting in which it will be voted on. \n",
            "      3. The Secretary shall be tasked with making appropriate changes to the Bylaws following a vote. \n",
            "   4. Discrepancies\n",
            "      1. If a discrepancy between the Constitution and the Bylaws arises, the Bylaw causing the discrepancy will be immediately removed from use until the next Executive meeting, at which time the Executive Board will resolve the discrepancy. \n",
            "      2. If any member of the Organization feels as though the Executive Board ruled incorrectly with regards to a discrepancy, they may submit a Request for Appeal to the Secretary and may plead their case at the next Executive meeting.\n",
            "2. Executive Structure and Additional Duties\n",
            "   1. President\n",
            "      1. All presidential appointments shall be voted on at the Executive meeting immediately following the announcement of the appointment.\n",
            "      2. The President shall, if deemed necessary, issue an Executive Order to fulfill their responsibilities, obligations, or objectives to/for the Organization. \n",
            "         1. Executive Orders may be challenged by any one (1) Executive Board member or by any three (3) general members by submitting a formal complaint to the Secretary. \n",
            "         2. Complaints shall be addressed at the next Executive meeting, and the President shall not be able to vote as part of the Executive Board’s decision. \n",
            "   2. Vice President\n",
            "      1. None\n",
            "   3. Secretary\n",
            "      1. None\n",
            "   4. Treasurer\n",
            "      1. The Treasurer shall maintain the Organization’s funds, including by not limited to: ensure annual taxes are filed, prepare budgets, maintain financial records and account details, and collect dues.\n",
            "   5. Secretaries-General\n",
            "      1. Additional responsibilities of the Secretaries-General are listed in Articles IX, X, and XI of the Bylaws.\n",
            "   6. Inter-Collegiate Coordinators\n",
            "      1. Additional responsibilities of the Inter-Collegiate Coordinators are listed in Article XII of the Bylaws. \n",
            "   7. Editor-In-Chief of the Wilson Journal\n",
            "      1. Additional responsibilities of the Editor-In-Chief are listed in Article XIII of the Bylaws. \n",
            "   8. Executive Producer of the Global Inquirer\n",
            "      1. Additional responsibilities of the Editor-In-Chief are listed in Article XIV of the Bylaws.\n",
            "   9. Social Chairs\n",
            "      1. None\n",
            "3. Additional Duties of Multiple Officers\n",
            "   1. All members of the Executive Board are required to provide recognition, support, and advertisement to all subsidiary bodies of the Organization.\n",
            "      1. Executive Board members should speak positively about all subsidiary bodies of the Organization. \n",
            "   2. The Secretaries-General must provide information regarding the IRO Standards of Conduct and Reporting System, as operated by the Executive Board, to their conference staff and guests.\n",
            "4. Membership and Dues\n",
            "   1. Membership shall be defined by dues. \n",
            "      1. Dues shall be set at $10 per semester. If a student wishes to pay for a full academic year of membership (two (2) consecutive semesters), they may do so by paying $15 in the fall semester - a $5 discount. \n",
            "      2. By paying dues, and therefore becoming a member of the Organization, members agree to follow the Organization’s Standards of Conduct.\n",
            "   2. Dues are required to serve in any of the following positions:\n",
            "      1. An officer of the Executive Board, or an appointee thereof\n",
            "      2. A member of any Secretariat\n",
            "      3. A member of the Executive Boards of the Wilson Journal and Global Inquirer\n",
            "      4. To travel with the Travel Team to compete at a Model UN conference. This will only apply to members who physically travel and not to all Travel Team members. \n",
            "   3. The International Relations Organization will waive dues for any member who claims a financial difficulty in paying them. IRO will not require proof of these claims to be made. \n",
            "      1. All official communications which reference dues must include a disclaimer that it is IRO policy to waive dues for those with financial difficulties. \n",
            "5. Member Standards of Conduct\n",
            "   1. The Organization is committed to fostering a safe, inclusive, and judgment-free environment for its members and guests. All members are expected to assist in the facilitation of this environment. \n",
            "   2. The Organization observes the following Standards of Conduct:\n",
            "      1. The Organization adheres to the University Judiciary Committee Standards of Conduct. \n",
            "      2. Inappropriate or unprofessional behavior while representing the Organization in any official capacity is subject to review by the Executive Board of the Organization. \n",
            "      3. The Organization upholds a policy against discrimination of any kind, including but not limited to on the basis of: age, race, national or ethnic origin, citizenship status, political affiliation, veteran status, religion, ability, gender identity, sex (including pregnancy), sexual orientation, marital status, or family medical or genetic information.\n",
            "      4. The Organization upholds a policy against harassment and assault of any kind, including but not limited to: physical, verbal, or mental harassment, offensive and derogatory remarks, stalking, inappropriate touching, intimidation gender-based violence, intimate partner violence, sexual assault, battery, or coercion, and attempted or completed rape.\n",
            "      5. Violations of these Standards of Conduct may be reported to the Executive Board of the Organization, and disciplinary action, up to and including dismissal from the Organization, may be taken. The Executive Board reserves the right to refer cases to the appropriate authorities.\n",
            "6. Reporting System, Suspension, and Dismissal \n",
            "   1. The Executive Board, under its parliamentary authority, shall have the authority to maintain and operate an incident reporting system. \n",
            "      1. A formal report shall be defined as any submission to the reporting Google form, and any disclosure made to a designated contact. \n",
            "   2. Reports shall be filed using an anonymous Google form or via the disclosure of a member of the Organization to a designated contact. \n",
            "      1. The Google form shall retain its current form unless a two-thirds (2/3rds) majority of the Executive Board approves changes. Changes to the form must be submitted to the Secretary. \n",
            "         1. The Secretary shall periodically check the form, and must inform Executive Board members of a new report within 24 hours after receiving it. \n",
            "      2. There shall be no less than four (4) designated contacts. \n",
            "         1. Designated contacts shall be members of the General Body, and must include a man, woman, BIPOC, and LGBTQ+ individual. A responsible General Body member shall be appointed by the President and approved by the Executive Board. \n",
            "         2. Designated contacts, after receiving a report, must inform the Executive Board of the report within 24 hours. If a reporter has chosen to remain anonymous, the contact may not reveal the identity of the reporter. \n",
            "   3. After a report has been received, and the Executive Board has been notified, the following Executive meeting shall discuss the report at the top of the agenda. \n",
            "      1. The Executive Board shall discuss a process for informing the respondent of the report, and scheduling a time to hold a hearing with them. \n",
            "      2. If the reporter has identified themselves in the report, and has given their permission to be contacted, a designated contact shall reach out to them and discuss a time to meet and potentially hold a hearing. \n",
            "   4. Hearings shall be held with the respondent and the reporter. By default, only the designated contacts shall be at the hearing - unless a majority of the Executive Board approves the presence of another member. \n",
            "      1. Hearings should include the presence of a third-party mediator. \n",
            "      2. The respondent and the reporter must not be at the same hearing at the same time. \n",
            "   5. Following the conclusion of the hearing, the full Executive Board shall meet to discuss the results. \n",
            "      1. If the respondent is found to have committed a violation of the Standards of Conduct, disciplinary action, up to and including dismissal from the Organization, shall be taken. \n",
            "      2. Guidelines for action are as follows:\n",
            "         1. It is suggested that for violations of Standards I and II, a temporary suspension shall be issued.\n",
            "         2. It is suggested that for violations of Standard III, a full semester suspension shall be issued.\n",
            "         3. It is suggested that for violations of Standards IV and V, the respondent shall be dismissed from the Organization. \n",
            "      3. Suspended members are not allowed to participate in the Organization or any of its subsidiary bodies in any capacity. \n",
            "   6. Should an Executive Board member be the respondent of a report, they must immediately recuse themselves from the process, but may continue in their position until a decision has been reaching by the rest of the Executive Board.\n",
            "      1. Should an Executive Board member be found at fault, they shall immediately resign their position, pending additional action (as listed in Article VI, Section E, Subsection 2 of the Bylaws)\n",
            "7. Meetings\n",
            "   1. Regular\n",
            "      1. Unless otherwise advertised to the General Body, regular meetings of the Organization shall take place from 7-8pm on Wednesdays  in Jefferson Hall on the West Range\n",
            "      2. Regular meetings will be called to order by the President of the Organization, who shall solicit updates and announcements  from other Executive Board members\n",
            "      3. After hearing announcements, the President shall turn over the meeting to whoever is in charge of the meeting’s activities, who by default is the Vice President\n",
            "   2. Executive\n",
            "      1. Under Article IX, Section 2 of the Organization’s Constitution, the President shall announce the time and place of the Executive Board meetings\n",
            "         1. Time and place may be altered by the Executive Board if necessary\n",
            "   3. Special\n",
            "      1. Under Article VIII, Section 3 of the Organization’s Constitution, special meetings may be called by any Executive Board member or by ten (10) General Body members\n",
            "      2. One (1) week’s notice must be given\n",
            "   4. Election\n",
            "      1. Under Article V of the Organization’s Constitution, election meetings shall take place at the end of each semester to elect the positions outlined in Article V\n",
            "      2. The date of elections meetings will be determined at the discretion of the Executive Board no fewer than three weeks in advance of the chosen date.[1]\n",
            "8. Elections\n",
            "   1. Chair\n",
            "      1. The Chair of an election meeting must not be a member of the Organization, but must be a student at the University \n",
            "         1. The President is responsible for finding an individual to chair\n",
            "         2. Within three (3) weeks of an election meeting, the President must introduce their appointment, and Executive Board must vote to approve or reject the appointment. A simple majority vote is required to approve or reject. \n",
            "         3. If an appointment is rejected by a two-thirds (2/3rds) margin, the Executive Board must advise the President on finding a replacement.\n",
            "   2. Sergeant-at-Arms\n",
            "      1. After the Chair has assumed control of the meeting, they will ask for a volunteer to be a Sergeant-at-Arms.\n",
            "      2. The Sergeant-at-Arms must ensure the room is secure for the duration of the meeting, meaning nobody may enter or leave during a speech or during voting procedure. \n",
            "      3. The Sergeant-at-Arms shall vote last, so long as they are a member of the Organization.\n",
            "   3. Secretary\n",
            "      1. The Secretary of the Organization must take minutes during the election meeting.\n",
            "      2. The Secretary shall be allowed to vote during voting procedure, so long as they are not barred from doing so by the Bylaws. \n",
            "      3. Should the Secretary wish to run for a position, they must appoint a Secretary Pro Tempore to carry out the duties of the Secretary while the current Secretary is being considered. \n",
            "   4. Counting Votes\n",
            "      1. Unless otherwise decided beforehand, the incumbent President and Vice President of the Organization shall be vote counters. \n",
            "         1. Vote counters cannot vote, run for any position, nor speak for a candidate. \n",
            "         2. Vote counters can speak for or against a proposed amendment to the Constitution or Bylaws.\n",
            "      2. If an incumbent President or Vice President wishes to run for a position, they must appoint a President or Vice President Pro Tempore to carry out the duties of the vote counter while the current President or Vice President is being considered. \n",
            "   5. General Election Process\n",
            "      1. The meeting shall start with the introduction of the Chair.\n",
            "      2. Any amendments to the Constitution will be introduced in the order in which they were submitted.\n",
            "      3. Any amendments to the Bylaws will be introduced in the order in which they were submitted. \n",
            "      4. Elections for Executive Board members shall take place in the order in which they are prescribed in the Constitution.\n",
            "   6. Election Process for Amendments\n",
            "      1. The proposed Constitutional and Bylaw amendment shall be introduced to the room by its author.\n",
            "      2. The Chair shall seek speakers for and against, alternative back and forth until no speakers remain. \n",
            "      3. A vote shall be held on the proposed amendment, with “yes” or “no” being the only options. \n",
            "   7. Election Process for Officers\n",
            "      1. The description of the position shall be read by the Chair.\n",
            "      2. The Chair will ask individuals with unaccepted nominations to accept or reject them.\n",
            "      3. The Chair will ask for any new nominations, and will then ask the individual if they accept or reject the nomination. If no new nominations are offered, the Chair will close nominations. \n",
            "      4. The Chair will ask all nominees to leave the room. \n",
            "      5. Nominees will be invited back to speak, one at a time, in the order in which they were nominated. Under Amendment II to the Constitution, nominees will have ten (10) minutes to use as they please. \n",
            "      6. Voting on the candidates will be done as prescribed in Section F above.\n",
            "      7. After votes have been cast and counted, the Chair will invite the candidates back into the room, where they will stand, and the Chair will announce the winner. \n",
            "   8. Voting Process\n",
            "      1. Once the Chair announces the start of voting, each dues-paying member in attendance will rank their choices on a piece of paper and deposit their ballot in a ballot box.\n",
            "         1. One (1) shall mean first choice, two (2) shall mean second, etc.\n",
            "      2. After all votes have been received, the vote counters shall count the votes, and must not announce vote totals to anyone internal or external to the Organization. \n",
            "         1. If, after all votes have been counted, no candidate has received a majority of the votes, the candidate who received the lowest number of votes and any candidate who received less than ten (10) percent of votes shall be removed from the list of potential candidates. \n",
            "         2. The vote counters shall then apply the alternative vote system - meaning the ballots with the aforementioned removed candidates as a first-choice shall be counted according to their second choice, as outlined in Bylaw Amendment III.\n",
            "      3. After a candidate has been recorded to have received a majority of votes, the vote counters will inform the Chair, who shall then call candidates back into the room and announce the winner.\n",
            "   9. Effectiveness of Amendments\n",
            "      1. Approved amendments to the Constitution and Bylaws, unless otherwise stated in the amendment itself, shall take effect immediately following the adjournment of the election meeting. \n",
            "      2. All elected officers shall be considered incumbent to their office immediately following adjournment.\n",
            "   10. Pre-Election Conduct\n",
            "      1. Executive board members are prohibited from publicly or materially supporting a specific candidate, including themselves, in an official capacity or through official IRO channels. Executive board members must use due diligence to ensure compliance and that they do not intentionally or unintentionally pressure a member to support a given candidate for office. Any campaigning by a member of the Executive board ought to be conducted in a manner to stress that their opinions are not representative of their branches. \n",
            "      2. The purposeful organization of a sub-branch of IRO to vote as a bloc or the issuance of branch-wide endorsements of a candidate or slate of candidates is expressly forbidden. \n",
            "      3. Candidates for office or any member of IRO are not permitted to induce or attempt to induce votes through financial, emotional, or physical pressure. \n",
            "      4. Should the validity of an election be questioned due to conduct of an Executive board member, candidate, or other member of IRO, a petition for inquiry may be submitted to the vote counters of the election signed by three (3) Executive board members or ten (10) general members of IRO eligible to vote at the time of the elections. Should the vote counters be implicated, the petition shall be submitted to the senior-most Executive board officer not implicated in the allegations whose term did not begin as a consequence of the election in question. Petitions may be submitted before or after an election takes place. \n",
            "         1. The recipient of the petition will arrange a hearing at which all non-implicated Executive board members will be present and able to vote. The hearing will require a quorum of seven (7) members. Should there not be enough eligible members to be drawn from the Executive board, members may be called upon to join the hearing divided evenly between the branches of IRO. Unanimous consent is required for a member to be added to such hearing panels. \n",
            "         2. The hearing shall hear evidence from both the accuser and the defense, and allow for witnesses and evidence to be admitted as the panel sees fit.\n",
            "         3. Following the presentation of evidence, the panel will vote either yes or no on the question of guilt. If the panel deems the Executive board member, candidate, or member to be guilty of an election conduct violation, they will be removed from the Executive board or have their candidacy invalidated for the election cycle as applicable. \n",
            "         4. Should a guilty verdict be issued, the implicated party can be referred to another disciplinary body external to IRO, including but not limited to the University Honor or Judiciary Committee for further disciplinary action. \n",
            "9. The Virginia Model United Nations Conference (VAMUN)\n",
            "   1. VAMUN shall be scheduled for the fall semester, after November 1 but before Thanksgiving recess. \n",
            "   2. The Secretary-General of VAMUN shall have the following duties:\n",
            "      1. Internally: shall select the dates of the conference, select Under-Secretaries-General through an application process, oversee their work, correspond with sponsors and UVA administration, review all distributed publicity materials, and speak on behalf of VAMUN to external media.\n",
            "      2. Externally: shall present Secretariat selections to the Executive Board prior to announcement, prepare a budget for the Executive Board, report on the progress of the Secretariat to the Executive Board, and attend all Executive Board meetings.\n",
            "      3. The Secretary-General has the authority to create and delegate additional Secretariat positions, but they are also subject to approval from the Executive Board, as noted in Article XX.\n",
            "   3. The following positions are required for Secretariat:\n",
            "      1. Director-General\n",
            "         1. Lead the committees team (USGs of GAs, Specs, Crisis, and WGSS), heads the selection process for Chairs/CDs, collaborates to craft committees, leads the background guide/dossier process, and hosts training sessions. \n",
            "      2. Chargé d’Affaires\n",
            "         1. Encourages schools to attend the conference, manages the registration process, communicates with sponsors/head delegates, documents all fees paid, assigns positions to delegates, manages delegate information, hosts sponsor/head delegate feedback sessions.\n",
            "      3. Chief of Staff\n",
            "         1. Oversees junior staff recruitment, assigns junior staff to committees, serves as point of contact for staff members, hosts training sessions, and plans bonding events. \n",
            "      4. Under-Secretary-General for General Assemblies\n",
            "         1. Selects Chairs for the General Assembly committees, works with their staff to write background guides, serves as the point of contact for senior General Assembly staff. \n",
            "      5. Under-Secretary-General for Specialized\n",
            "         1. Selects Chairs for the Specialized committees, works with their staff to write background guides/dossiers, serves as the point of contact for senior Specialized staff. \n",
            "      6. Under-Secretary-General for Crisis\n",
            "         1. Selects Chairs for the Crisis committees, works with their staff to write background guides/dossiers, serves as the point of contact for senior Crisis staff. \n",
            "      7. Under-Secretary-General of the Wilson Global Systems Simulation\n",
            "         1. Serves as the Head Crisis Director of the Wilson Global Systems Simulation, a 4-way joint-crisis simulation. Selects the topic for the simulation, and works with staff to develop a coherent crisis arc for all committees. \n",
            "         2. Selects Chairs for the WGSS committees, works with their staff to write background guides/dossiers, serves as the point of contact for senior WGSS staff. \n",
            "      8. Under-Secretary-General for Logistics\n",
            "         1. Corresponds with administration regarding room reservations, designs and purchases supplies and merchandise, oversees all non-committee events taking place during conference weekend.\n",
            "      9. Under-Secretary-General for External Relations\n",
            "         1. Corresponds with third-party organizations and businesses in the Charlottesville community, reserves blocks of hotel rooms for use by delegations, and coordinates the philanthropic partner and fundraising efforts. \n",
            "      10. Under-Secretary-General for Media and Design\n",
            "         1. Designs conference materials, coordinates a social media presence, and maintains the conference website. \n",
            "10. The Virginia International Crisis Simulation (VICS)\n",
            "   1. VICS shall be scheduled for the spring semester.\n",
            "   2. The Secretary-General of VICS shall have the following duties:\n",
            "      1. Internally: shall select the dates of the conference, select Under-Secretaries-General through an application process, oversee their work, correspond with head delegates and UVA administration, review all distributed publicity materials, and speak on behalf of VICS to external media.\n",
            "      2. Externally: shall present Secretariat selections to the Executive Board prior to announcement, prepare a budget for the Executive Board, report on the progress of the Secretariat to the Executive Board, and attend all Executive Board meetings.\n",
            "      3. The Secretary-General has the authority to create and delegate additional Secretariat positions, but they are also subject to approval from the Executive Board, as noted in Article XX.\n",
            "   3. The following positions are required for Secretariat:\n",
            "      1. Two (2) Directors-General\n",
            "         1. Head the selection process for Chairs/CDs, collaborate to craft committees, leads the background guide/dossier process, and host training sessions. \n",
            "      2. Chargé d’Affaires\n",
            "         1. Encourages schools to attend the conference, manages the registration process, communicates with sponsors/head delegates, documents all fees paid, assigns positions to delegates, manages delegate information, hosts sponsor/head delegate feedback sessions.\n",
            "      3. Chief of Staff\n",
            "         1. Oversees junior staff recruitment, assigns junior staff to committees, serves as point of contact for staff members, hosts training sessions, and plans bonding events. \n",
            "      4. Under-Secretary-General for Logistics\n",
            "         1. Corresponds with administration regarding room reservations, designs and purchases supplies and merchandise, oversees all non-committee events taking place during conference weekend.\n",
            "      5. Under-Secretary-General for External Relations\n",
            "         1. Corresponds with third-party organizations and businesses in the Charlottesville community, reserves blocks of hotel rooms for use by delegations, and coordinates the philanthropic partner and fundraising efforts. \n",
            "      6. Under-Secretary-General for Media and Design\n",
            "         1. Designs conference materials, coordinates a social media presence, and maintains the conference website. \n",
            "11. The Virginia Inter-Generational Model United Nations Conference (VIGMUN)\n",
            "   1. VIGMUN shall be scheduled for the spring semester, before spring recess.\n",
            "   2. VIGMUN shall be a single, double-delegate committee with University students partnered with community members. \n",
            "   3. The Secretary-General of VIGMUN shall have the following duties:\n",
            "      1. Internally: shall select the dates of the conference, select Under-Secretaries-General through an application process, oversee their work, correspond with UNA-USA and UVA administration, review all distributed publicity materials, and speak on behalf of VIGMUN to external media.\n",
            "      2. Externally: shall present Secretariat selections to the Executive Board prior to announcement, prepare a budget for the Executive Board, report on the progress of the Secretariat to the Executive Board, and attend all Executive Board meetings.\n",
            "      3. The Secretary-General has the authority to create and delegate additional Secretariat positions, but they are also subject to approval from the Executive Board, as noted in Article XX.\n",
            "   4. The following positions are required for Secretariat: \n",
            "      1. Director-General\n",
            "         1. Crafts the committee, plans and writes the background guide, and hosts training sessions.\n",
            "      2. Chargé d’Affaires\n",
            "         1. Encourages students and community members  to attend the conference, manages the registration process, communicates with delegates, documents all fees paid, and assigns positions to delegates, manages delegate information.\n",
            "      3. Under-Secretary-General for Logistics\n",
            "         1. Corresponds with administration regarding room reservations, designs and purchases supplies and merchandise, oversees all non-committee events taking place during conference weekend.\n",
            "      4. Under-Secretary-General for Media and Design \n",
            "         1. Designs conference materials, coordinates a social media presence, and maintains the conference website. \n",
            "12. The Model United Nations Travel Team\n",
            "   1. The Travel Team shall recruit for each conference individually, holding applications and interviews (if applicable) for each planned conference.\n",
            "   2. The Inter-Collegiate Coordinators operate under a dual-mandate, ensuring University delegates engage in social interactions while maintaining the competitiveness of the team. \n",
            "   3. The Inter-Collegiate Coordinators shall appoint a satellite reporter, at their discretion, at the start of each semester.\n",
            "      1. The satellite reporter shall be placed in every group communication channel of the travel team, for each conference that the team attends.\n",
            "      2. The duties of the satellite reporter shall be to make themselves available in response to any concerns reported. \n",
            "         1. Concerns include violations of the Standards of Conduct, interpersonal issues, and general concerns. \n",
            "13. The Wilson Journal of International Affairs\n",
            "   1. The Editor-in-Chief of the Wilson Journal shall have the following duties:\n",
            "      1. Manage all elements of the Journal, including its Editorial Board, content, marketing, and launch.\n",
            "      2. Present the Executive Board with consistent updates regarding the status of the Journal, including: submissions, editing, marketing, and launch.\n",
            "      3. The Editor-in-Chief has the authority to create and delegate additional Secretariat positions, but they are also subject to approval from the Executive Board, as noted in Article XX.\n",
            "   2. The Editorial Board assists the Editor-in-Chief with various operational functions, including staff management, online media management, submissions, journal design and production, outreach, and archive.\n",
            "      1. Managing Editor\n",
            "         1. Responsible for managing the Journal’s staff.\n",
            "      2. Media Manager\n",
            "         1. Responsible for managing the online media content, including the website and social media pages.\n",
            "      3. Production Chair\n",
            "         1. Responsible for managing the design and production of the print journal, and for planning the semester launch event. \n",
            "      4. Outreach Chair\n",
            "         1. Responsible for managing co-sponsorships with third-parties organizations or business.\n",
            "      5. Submissions Chair\n",
            "         1. Responsible for managing the submissions to the Journal.\n",
            "      6. Archive Chair\n",
            "         1. Responsible for managing the Journal archives in the UVA Library system, as well as online. \n",
            "   3. The Editorial Board is tasked with producing and publishing a semesterly journal, consisting of undergraduate submissions in the fields of international relations, geopolitics, or foreign policy. \n",
            "      1. Submissions may be independently written, or may be the product of coursework. \n",
            "      2. The finalized Journal must be printed at the end of each semester, and officially launched to showcase the work\n",
            "14. The Global Inquirer Podcast\n",
            "   1. Bylaws for the Global Inquirer Podcast are currently being drafted. \n",
            "15. Finances\n",
            "   1. The University of Virginia Fund\n",
            "      1. The Organization’s University of Virginia Fund must have enough funding to last the Organization two full semesters with no additional income, unless a greater withdraw is approved by a two-thirds vote of the Executive Board. \n",
            "   2. Student Council Funding\n",
            "      1. The Organization may apply for funding from the Student Council. \n",
            "   3. Bank Accounts\n",
            "      1. The Treasurer shall be the primary contact for Organization bank accounts, and ensure that the accounts stay above a certain balance. \n",
            "      2. The following officers of the Executive Board shall have debit cards:\n",
            "         1. President\n",
            "         2. Vice President\n",
            "         3. Treasurer\n",
            "         4. Secretaries-General of VAMUN and VICS\n",
            "         5. Social Chairs\n",
            "      3. Officers may lend their card to other Executive Board officers, so long as they receive approval from the Treasurer. \n",
            "   4. Financial Guidelines\n",
            "      1. The Treasurer shall prepare a ruleset for the use of funds, including: responsibilities, restrictions, and duties the Executive Board officers have regarding spending, budgeting, or purchasing with Organization funding. \n",
            "      2. Alcohol shall never be purchased using an Organization card.\n",
            "16. Alumni Relations\n",
            "   1. Under Article XII of the Constitution, and the parliamentary authority adopted by the Executive Board, a Director of Alumni Relations may be appointed by the President and confirmed by a majority vote of the Executive Board. \n",
            "   2. The Director of Alumni Relations shall be responsible for preparing and sending an alumni newsletter at intervals determined by the President. \n",
            "17. Technology \n",
            "   1. Under Article XII of the Constitution, and the parliamentary authority adopted by the Executive Board, a Director of Information Technology may be appointed and confirmed by a majority vote of the Executive Board. \n",
            "   2. The Director of Information Technology shall be responsible for maintaining Organization websites, social media accounts, and another platforms as deemed necessary by the President. \n",
            "18. University Elections, Political Statements, Third Parties\n",
            "   1. Neither the Organization nor any member of the Executive Board acting in an official capacity may publicly endorse endorse any candidate for an office within any election \n",
            "      1. Including, but not limited to: Student Council, College/Class Councils, the Honor Committee, and the University Judicial Committee.\n",
            "      2. Including, but not limited to: local, state, federal, or international elections. \n",
            "   2. Open letters, statements, or petitions, must be approved by a two-thirds vote of the Executive Board, following sufficient debate.\n",
            "      1. A request to begin debate must be submitted in writing to the President, at least three days prior to the Executive meeting where debate is to take place, by at least two Executive Board officers.\n",
            "   3. Third-party partnerships must be approved by either the Executive Board, Secretary-General, or Editor-in-Chief of the body in which the partnership is occuring. \n",
            "19. Beach Week\n",
            "   1. IRO Beach Week shall take place between the end of final exams and the beginning of final exercises. \n",
            "   2. IRO Beach Week shall be planned by the President Emeritus of the Organization, or by another appointed official as deemed appropriate by the Executive Board. \n",
            "20. Subsidiary Bodies\n",
            "   1. The Secretaries-General and Editors-in-Chief may add or remove positions on Secretariats or Editorial Board as they deem necessary.\n",
            "      1. The addition or removal of positions are subject to the Executive Board’s approval, and must receive a simple majority of votes before going into effect. \n",
            "   2. Selections for Secretariats or Editorial Boards must be approved by a majority vote of the Executive Board before they are notified. Positions which have been filled before receiving Executive Board approval are subject to reversal. \n"
          ]
        }
      ]
    },
    {
      "cell_type": "code",
      "metadata": {
        "colab": {
          "base_uri": "https://localhost:8080/"
        },
        "id": "Ok0aOsDQdO5o",
        "outputId": "9eb31c02-2818-4b09-ca30-98f22ed60112"
      },
      "source": [
        "sess = gpt2.start_tf_sess()\n",
        "\n",
        "gpt2.finetune(sess,\n",
        "              dataset=file_name,\n",
        "              model_name='124M',\n",
        "              steps=1000,\n",
        "              restore_from='fresh',\n",
        "              run_name='run1',\n",
        "              print_every=10,\n",
        "              sample_every=200,\n",
        "              save_every=500\n",
        "              )"
      ],
      "execution_count": 9,
      "outputs": [
        {
          "output_type": "stream",
          "name": "stdout",
          "text": [
            "Loading checkpoint models/124M/model.ckpt\n",
            "INFO:tensorflow:Restoring parameters from models/124M/model.ckpt\n",
            "Loading dataset...\n"
          ]
        },
        {
          "output_type": "stream",
          "name": "stderr",
          "text": [
            "100%|██████████| 1/1 [00:00<00:00, 330.23it/s]"
          ]
        },
        {
          "output_type": "stream",
          "name": "stdout",
          "text": [
            "dataset has 8368 tokens\n",
            "Training...\n"
          ]
        },
        {
          "output_type": "stream",
          "name": "stderr",
          "text": [
            "\n"
          ]
        },
        {
          "output_type": "stream",
          "name": "stdout",
          "text": [
            "[10 | 49.56] loss=1.47 avg=1.47\n",
            "[20 | 93.37] loss=0.89 avg=1.17\n",
            "[30 | 137.18] loss=0.30 avg=0.88\n",
            "[40 | 181.04] loss=0.13 avg=0.69\n",
            "[50 | 224.80] loss=0.07 avg=0.56\n",
            "[60 | 268.53] loss=0.08 avg=0.48\n",
            "[70 | 312.33] loss=0.08 avg=0.42\n",
            "[80 | 356.12] loss=0.05 avg=0.37\n",
            "[90 | 399.92] loss=0.04 avg=0.33\n",
            "[100 | 443.64] loss=0.03 avg=0.30\n",
            "[110 | 487.38] loss=0.04 avg=0.28\n",
            "[120 | 531.11] loss=0.03 avg=0.26\n",
            "[130 | 574.89] loss=0.02 avg=0.24\n",
            "[140 | 618.59] loss=0.02 avg=0.22\n",
            "[150 | 662.30] loss=0.03 avg=0.21\n",
            "[160 | 706.01] loss=0.04 avg=0.19\n",
            "[170 | 749.71] loss=0.01 avg=0.18\n",
            "[180 | 793.45] loss=0.01 avg=0.17\n",
            "[190 | 837.18] loss=0.02 avg=0.16\n",
            "[200 | 880.91] loss=0.02 avg=0.16\n",
            "======== SAMPLE 1 ========\n",
            " and Secretariat shall seek the attendance of potential guests and co-workers, review each guest request, and speak on behalf of VICS to external media.\n",
            "   2. Chair\n",
            "      1. The Chair of VICS shall be a man and woman to consistent male and female identities. \n",
            "   3. Secretary\n",
            "      1. The Secretary of VICS shall be a man and a woman to consistent female and non-binary sexual orientations.\n",
            "   4. Treasurer\n",
            "      1. The Treasurer of VICS shall be a man and a woman to consistent male and female identities.\n",
            "   5. Editor-In-Chief of the Wilson Journal\n",
            "      1. The Editor-In-Chief of the Wilson Journal shall be a man and a woman to consistent male and female identities.\n",
            "   6. Chargé d’Affaires\n",
            "      1. The Editor-In-Chief of the Wilson Journal shall be a man and a woman to consistent female and non-binary sexual identity.\n",
            "   7. Editor-In-Chief of the Global Inquirer\n",
            "      1. The Editor-In-Chief of the Global Inquirer shall be a man and a woman to consistent male and female identities.\n",
            "   8. Chargé d’Affaires\n",
            "      1. The Global Inquirer Editor-In-Chief shall be a man and a woman to consistent female and non-binary sexual identity.\n",
            "   9. Chargé d’Affaires\n",
            "      2. The Global Editor-In-Chief shall be a woman and a partner\n",
            "   10. Media Manager\n",
            "      1. The Media Manager of the Journal shall be a woman and a partner\n",
            "      3. The Media Manager of the Global Inquirer to be\n",
            "      4. The Women Editor-In-Chief to be\n",
            "      5. Title IX Coordinator\n",
            "      1. The Director of the Global Inquirer to maintain the Journal while the investigations go on\n",
            "   11. Media Manager of the Reporting Vehicle\n",
            "      1. The Editor-In-Chief of the Global Inquirer to drive the 24/7 Journal team to and from each investigations meeting, to ensure the work is conducted in a manner to stress that the various investigations be reported as such, and the results announced be the subject of investigation. \n",
            "   12. Producer of the Global Inquirer\n",
            "      1. The Editor-In-Chief of the Global Inquirer shall have the following duties:\n",
            "         1. Manage all elements of the Journal, including its Editorial Board, content, marketing, and launch.\n",
            "         2. Selects the time period for reporting, weeks or months.\n",
            "         3. Reports to the Executive Board, partners and family members of the Executive Board member who visited the Journal, and associates.\n",
            "      3. Corresponds with third-party organizations and businesses in the Charlottesville community.\n",
            "      4. Projects the Editor-In-Chief of the Journal to achieve his or her stated aims, such as making the University a safer place to be and a more able partner for their businesses. \n",
            "      5. Submissions process for the Global Inquirer Podcast\n",
            "      1. The submitted content shall be published’s ival, トランドマンジャン, or トリカックマンジャン after the 30’ period beginning on the launch day.\n",
            "      2. The deadline to publish is the first day of November following the election.\n",
            "   13. Sponsorships\n",
            "      1. The Executive Board is seeking sponsors to launch a full-fledged brand and fundraising vehicle after the election. \n",
            "      2. The launch sponsor must be a reputable organization or business that sponsors or plans to sponsor the election. \n",
            "      3. The sponsor must be a member of the Executive Board or another significant part of the Executive Board’s body. \n",
            "      4. The sponsor must be able to provide leadership, financial, and operational support, and awareness  to the entire Executive Board. \n",
            "   14. Election Process for Chairs\n",
            "      1. The following positions are required for Chairs:\n",
            "      1. Director\n",
            "         1. Head the selection process for Chairs, collect nominations, coordinate efforts, and speak on behalf of the Board to external media.\n",
            " \n",
            "\n",
            "[210 | 944.19] loss=0.02 avg=0.15\n",
            "[220 | 987.89] loss=0.02 avg=0.14\n",
            "[230 | 1031.61] loss=0.03 avg=0.14\n",
            "[240 | 1075.30] loss=0.02 avg=0.13\n",
            "[250 | 1118.95] loss=0.02 avg=0.13\n",
            "[260 | 1162.67] loss=0.02 avg=0.12\n",
            "[270 | 1206.38] loss=0.02 avg=0.12\n",
            "[280 | 1250.06] loss=0.01 avg=0.11\n",
            "[290 | 1293.74] loss=0.02 avg=0.11\n",
            "[300 | 1337.36] loss=0.01 avg=0.11\n",
            "[310 | 1381.07] loss=0.01 avg=0.10\n",
            "[320 | 1424.77] loss=0.01 avg=0.10\n",
            "[330 | 1468.49] loss=0.02 avg=0.10\n",
            "[340 | 1512.18] loss=0.02 avg=0.09\n",
            "[350 | 1555.92] loss=0.02 avg=0.09\n",
            "[360 | 1599.63] loss=0.02 avg=0.09\n",
            "[370 | 1643.35] loss=0.01 avg=0.09\n",
            "[380 | 1687.06] loss=0.02 avg=0.08\n",
            "[390 | 1730.78] loss=0.02 avg=0.08\n",
            "[400 | 1774.49] loss=0.01 avg=0.08\n",
            "======== SAMPLE 1 ========\n",
            " shall not vote in any election in which a member has been implicated. \n",
            "   6. Pre-Election Conduct\n",
            "      1. Executive board members are prohibited from publicly or materially supporting a specific candidate, including themselves, in an official capacity or through official IRO channels. Executive board members must use due diligence to ensure compliance and that they do not intentionally or unintentionally pressure a member to support a given candidate for office. Any campaigning by a member of the Executive board ought to be conducted in a manner to stress that their opinions are not representative of their branches. \n",
            "      2. The purposeful organization of a sub-branch of IRO to vote as a bloc or the issuance of branch-wide endorsements of a candidate or slate of candidates is expressly forbidden. \n",
            "      3. Candidates for office or any member of IRO are not permitted to induce or attempt to induce votes through financial, emotional, or physical pressure. \n",
            "      4. Should the validity of an election be questioned due to conduct of an Executive board member, candidate, or other member of IRO, a petition for inquiry may be submitted to the vote counters of the election signed by three (3) Executive board members or ten (10) general members of IRO eligible to vote at the time of the elections. Should the vote counters be implicated, the petition shall be submitted to the senior-most Executive board officer not implicated in the allegations whose term did not begin as a consequence of the election in question. Petitions may be submitted before or after an election takes place. \n",
            "         1. The recipient of the petition will arrange a hearing at which all non-implicated Executive board members will be present and able to vote. The hearing will require a quorum of seven (7) members. Should there not be enough eligible members to be drawn from the Executive board, members may be called upon to join the hearing divided evenly between the branches of IRO. Unanimous consent is required for a member to be added to such hearing panels. \n",
            "         2. The hearing shall hear evidence from both the accuser and the defense, and allow for witnesses and evidence to be admitted as the panel sees fit.\n",
            "         3. Following the presentation of evidence, the panel will vote either yes or no on the question of guilt. If the panel deems the Executive board member, candidate, or member to be guilty of an election conduct violation, they will be removed from the Executive board or have their candidacy invalidated for the election cycle as applicable. \n",
            "         4. Should a guilty verdict be issued, the implicated party can be referred to another disciplinary body external to IRO, including but not limited to the University Honor or Judiciary Committee for further disciplinary action. \n",
            "9. The Virginia Model United Nations Conference (VAMUN)\n",
            "   1. VAMUN shall be scheduled for the fall semester, after November 1 but before Thanksgiving recess. \n",
            "   2. The Secretary-General of VAMUN shall have the following duties:\n",
            "      1. Internally: shall select the dates of the conference, select Under-Secretaries-General through an application process, oversee their work, correspond with sponsors and UVA administration, review all distributed publicity materials, and speak on behalf of VAMUN to external media.\n",
            "      2. Externally: shall present Secretariat selections to the Executive Board prior to announcement, prepare a budget for the Executive Board, report on the progress of the Secretariat to the Executive Board, and attend all Executive Board meetings.\n",
            "      3. The Secretary-General has the authority to create and delegate additional Secretariat positions, but they are also subject to approval from the Executive Board, as noted in Article XX.\n",
            "   3. The following positions are required for Secretariat:\n",
            "      1. Director-General\n",
            "         1. Lead the committees team (USGs of GAs, Specs, Crisis, and WGSS), heads the selection process for Chairs/CDs, collaborates to craft committees, leads the background guide/dossier process, and hosts training sessions. \n",
            "      2. Chargé d’Affaires\n",
            "         1. Encourages schools to attend the conference, manages the registration process, communicates with sponsors/head delegates, documents all fees paid, assigns positions to delegates, manages delegate information, hosts sponsor/head delegate feedback sessions.\n",
            "      3. Chief of Staff\n",
            "         1. Oversees junior staff recruitment, assigns junior staff to committees, serves as point of contact for staff members, hosts training sessions, and plans bonding events. \n",
            "\n",
            "\n",
            "[410 | 1836.55] loss=0.02 avg=0.08\n",
            "[420 | 1880.27] loss=0.02 avg=0.08\n",
            "[430 | 1923.98] loss=0.01 avg=0.07\n",
            "[440 | 1967.69] loss=0.02 avg=0.07\n",
            "[450 | 2011.41] loss=0.01 avg=0.07\n",
            "[460 | 2055.13] loss=0.02 avg=0.07\n",
            "[470 | 2098.81] loss=0.01 avg=0.07\n",
            "[480 | 2142.56] loss=0.01 avg=0.07\n",
            "[490 | 2186.30] loss=0.01 avg=0.07\n",
            "[500 | 2230.02] loss=0.01 avg=0.06\n",
            "Saving checkpoint/run1/model-500\n",
            "[510 | 2276.91] loss=0.02 avg=0.06\n",
            "[520 | 2320.66] loss=0.01 avg=0.06\n",
            "[530 | 2364.35] loss=0.02 avg=0.06\n",
            "[540 | 2408.05] loss=0.01 avg=0.06\n",
            "[550 | 2451.76] loss=0.01 avg=0.06\n",
            "[560 | 2495.45] loss=0.02 avg=0.06\n",
            "[570 | 2539.13] loss=0.02 avg=0.06\n",
            "[580 | 2582.82] loss=0.01 avg=0.06\n",
            "[590 | 2626.53] loss=0.01 avg=0.05\n",
            "[600 | 2670.21] loss=0.02 avg=0.05\n",
            "======== SAMPLE 1 ========\n",
            " meet a hearing at which all non-implicated Executive board members will be present and able to vote. The hearing will require a quorum of seven (7) members. Should there not be enough eligible members to be drawn from the Executive board, members may be called upon to join the hearing divided evenly between the branches of IRO. Unanimous consent is required for a member to be added to such hearing panels. \n",
            "         2. The hearing shall hear evidence from both the accuser and the defense, and allow for witnesses and evidence to be admitted as the panel sees fit.\n",
            "         3. Following the presentation of evidence, the panel will vote either yes or no on the question of guilt. If the panel deems the Executive board member, candidate, or member to be guilty of an election conduct violation, they will be removed from the Executive board or have their candidacy invalidated for the election cycle as applicable. \n",
            "         4. Should a guilty verdict be issued, the implicated party can be referred to another disciplinary body external to IRO, including but not limited to the University Honor or Judiciary Committee for further disciplinary action. \n",
            "9. The Virginia Model United Nations Conference (VAMUN)\n",
            "   1. VAMUN shall be scheduled for the fall semester, after November 1 but before Thanksgiving recess. \n",
            "   2. The Secretary-General of VAMUN shall have the following duties:\n",
            "      1. Internally: shall select the dates of the conference, select Under-Secretaries-General through an application process, oversee their work, correspond with sponsors and UVA administration, review all distributed publicity materials, and speak on behalf of VAMUN to external media.\n",
            "      2. Externally: shall present Secretariat selections to the Executive Board prior to announcement, prepare a budget for the Executive Board, report on the progress of the Secretariat to the Executive Board, and attend all Executive Board meetings.\n",
            "      3. The Secretary-General has the authority to create and delegate additional Secretariat positions, but they are also subject to approval from the Executive Board, as noted in Article XX.\n",
            "   3. The following positions are required for Secretariat:\n",
            "      1. Director-General\n",
            "         1. Lead the committees team (USGs of GAs, Specs, Crisis, and WGSS), heads the selection process for Chairs/CDs, collaborates to craft committees, leads the background guide/dossier process, and hosts training sessions. \n",
            "      2. Chargé d’Affaires\n",
            "         1. Encourages schools to attend the conference, manages the registration process, communicates with sponsors/head delegates, documents all fees paid, assigns positions to delegates, manages delegate information, hosts sponsor/head delegate feedback sessions.\n",
            "      3. Chief of Staff\n",
            "         1. Oversees junior staff recruitment, assigns junior staff to committees, serves as point of contact for staff members, hosts training sessions, and plans bonding events. \n",
            "      4. Under-Secretary-General for General Assemblies\n",
            "         1. Selects Chairs for the General Assembly committees, works with their staff to write background guides, serves as the point of contact for senior General Assembly staff. \n",
            "      5. Under-Secretary-General for Specialized\n",
            "         1. Selects Chairs for the Specialized committees, works with their staff to write background guides/dossiers, serves as the point of contact for senior Specialized staff. \n",
            "      6. Under-Secretary-General for Crisis\n",
            "         1. Selects Chairs for the Crisis committees, works with their staff to write background guides/dossiers, serves as the point of contact for senior Crisis staff. \n",
            "      7. Under-Secretary-General of the Wilson Global Systems Simulation\n",
            "         1. Serves as the Head Crisis Director of the Wilson Global Systems Simulation, a 4-way joint-crisis simulation. Selects the topic for the simulation, and works with staff to develop a coherent crisis arc for all committees. \n",
            "         2. Selects Chairs for the WGSS committees, works with their staff to write background guides/dossiers, serves as the point of contact for senior WGSS staff. \n",
            "      8. Under-Secretary-General for Logistics\n",
            "         1. Corresponds with administration regarding room reservations, designs and purchases supplies and merchandise\n",
            "\n",
            "[610 | 2732.21] loss=0.02 avg=0.05\n",
            "[620 | 2775.98] loss=0.02 avg=0.05\n",
            "[630 | 2819.76] loss=0.01 avg=0.05\n",
            "[640 | 2863.50] loss=0.01 avg=0.05\n",
            "[650 | 2907.26] loss=0.02 avg=0.05\n",
            "[660 | 2950.98] loss=0.01 avg=0.05\n",
            "[670 | 2994.69] loss=0.01 avg=0.05\n",
            "[680 | 3038.47] loss=0.01 avg=0.05\n",
            "[690 | 3082.22] loss=0.01 avg=0.05\n",
            "[700 | 3125.92] loss=0.01 avg=0.05\n",
            "[710 | 3169.60] loss=0.01 avg=0.05\n",
            "[720 | 3213.30] loss=0.01 avg=0.04\n",
            "[730 | 3257.05] loss=0.01 avg=0.04\n",
            "[740 | 3300.78] loss=0.01 avg=0.04\n",
            "[750 | 3344.47] loss=0.02 avg=0.04\n",
            "[760 | 3388.15] loss=0.02 avg=0.04\n",
            "[770 | 3431.85] loss=0.01 avg=0.04\n",
            "[780 | 3475.56] loss=0.01 avg=0.04\n",
            "[790 | 3519.31] loss=0.01 avg=0.04\n",
            "[800 | 3563.02] loss=0.01 avg=0.04\n",
            "======== SAMPLE 1 ========\n",
            " incorrectly, and reject the nomination. \n",
            "         4. Should the Nominees be rejected by the Executive Board, the Executive Board will not allow for a candidate to be introduced in the order in which they were submitted. \n",
            "         5. Should the Executive Board consider a candidate for an appointment, they must appoint a President or Vice President Pro Tempore to carry out the duties of the President or Vice President while the current President or Vice President is being considered. \n",
            "   4. Counting Votes\n",
            "      1. Unless otherwise decided beforehand, the incumbent President or Vice President shall be the President and Vice President shall be responsible for electing the new President or Vice President. \n",
            "         6. Under Article V of the Constitution, the President or Vice President shall be voted on at the Executive meeting immediately following the announcement of the appointment.\n",
            "      2. The President or Vice President shall be responsible for ensuring that all members of the Organization are covered by the new President or Vice President. \n",
            "      3. The President or Vice President shall be responsible for finding an individual to chair\n",
            "         7. Within three (3) weeks of an appointment, the President or Vice President shall introduce their appointment, and shall then call into question the appointment before it even has even been considered. \n",
            "         8. The appointment shall be voted on, with the Executive Board at least three (3) weeks away from announcing the announcement. \n",
            "         9. The Executive Board shall discuss a process for informing the President or Vice President of an appointment, and scheduling a time to hold a hearing with them. \n",
            "      4. Hearings shall be held with the President or Vice President, and the Executive Board, around who is in charge of the hearing at the time of the elections. \n",
            "      5. Should the President or Vice President wish to run for a position, they must appoint a Secretary Pro Tempore to carry out the duties of the Secretary while the current Secretary is being considered. \n",
            "   6. General Election Process\n",
            "      1. The meeting shall start with the introduction of the Secretary.\n",
            "      2. Any amendments to the Constitution will be introduced in the order in which they were submitted.\n",
            "      3. Any amendments to the Bylaws will be introduced in the order in which they were submitted. \n",
            "      4. Elections for Executive Board members shall take place in the order in which they are prescribed in the Constitution.\n",
            "   7. Election Process for Amendments\n",
            "      1. The proposed Constitutional and Bylaw amendment shall be introduced to the room by its author.\n",
            "      2. The Chair shall seek speakers for and against, alternative back and forth until no speakers remain. \n",
            "      3. A vote shall be held on the proposed amendment, with “yes” or “no” being the only options. \n",
            "   8. Election Process for Officers\n",
            "      1. The description of the position shall be read by the Chair.\n",
            "      2. The Chair will ask individuals with unaccepted nominations to accept or reject them.\n",
            "      3. The Chair will ask for any new nominations, and will then ask the individual if they accept or reject the nomination. If no new nominations are offered, the Chair will close nominations. \n",
            "      4. The Chair will ask all nominees to leave the room. \n",
            "      5. Nominees will be invited back to speak, one at a time, in the order in which they were nominated. Under Amendment II to the Constitution, nominees will have ten (10) minutes to use as they please. \n",
            "      6. Voting on the candidates will be done as prescribed in Section F above.\n",
            "      7. After votes have been cast and counted, the Chair will invite the candidates back into the room, where they will stand, and the Chair will announce the winner. \n",
            "   9. Voting Process\n",
            "      1. Once the Chair announces the start of voting, each dues-paying member in attendance will rank their choices on a piece of paper and deposit their ballot in a ballot box.\n",
            "         1. One (1) shall mean first choice, two (2) shall mean second, etc.\n",
            "      2. After all votes have been received, the vote counters shall count the votes, and must not announce vote totals to anyone internal or external to the Organization. \n",
            "\n",
            "\n",
            "[810 | 3625.03] loss=0.01 avg=0.04\n",
            "[820 | 3668.76] loss=0.01 avg=0.04\n",
            "[830 | 3712.52] loss=0.01 avg=0.04\n",
            "[840 | 3756.22] loss=0.01 avg=0.04\n",
            "[850 | 3799.95] loss=0.01 avg=0.04\n",
            "[860 | 3843.66] loss=0.01 avg=0.04\n",
            "[870 | 3887.37] loss=0.01 avg=0.04\n",
            "[880 | 3931.06] loss=0.01 avg=0.04\n",
            "[890 | 3974.77] loss=0.01 avg=0.04\n",
            "[900 | 4018.45] loss=0.01 avg=0.04\n",
            "[910 | 4062.12] loss=0.01 avg=0.04\n",
            "[920 | 4105.82] loss=0.01 avg=0.03\n",
            "[930 | 4149.56] loss=0.01 avg=0.03\n",
            "[940 | 4193.30] loss=0.01 avg=0.03\n",
            "[950 | 4237.01] loss=0.01 avg=0.03\n",
            "[960 | 4280.69] loss=0.01 avg=0.03\n",
            "[970 | 4324.41] loss=0.01 avg=0.03\n",
            "[980 | 4368.11] loss=0.01 avg=0.03\n",
            "[990 | 4411.85] loss=0.01 avg=0.03\n",
            "[1000 | 4455.52] loss=0.01 avg=0.03\n",
            "Saving checkpoint/run1/model-1000\n",
            "WARNING:tensorflow:From /usr/local/lib/python3.7/dist-packages/tensorflow/python/training/saver.py:971: remove_checkpoint (from tensorflow.python.training.checkpoint_management) is deprecated and will be removed in a future version.\n",
            "Instructions for updating:\n",
            "Use standard file APIs to delete files with this prefix.\n"
          ]
        }
      ]
    },
    {
      "cell_type": "code",
      "metadata": {
        "id": "9NN6yXpGzzSW"
      },
      "source": [
        "gpt2.copy_checkpoint_to_gdrive(run_name='run1')"
      ],
      "execution_count": 10,
      "outputs": []
    },
    {
      "cell_type": "code",
      "metadata": {
        "colab": {
          "base_uri": "https://localhost:8080/"
        },
        "id": "PpmINaI3AkQp",
        "outputId": "dc458617-42a9-4abb-ef66-d56c4ebc8b69"
      },
      "source": [
        "gpt2.generate(sess, run_name='run1', temperature=1.5, prefix=\"\"\"Bylaws of the International Relations Organization at the University of Virginia\"\"\")"
      ],
      "execution_count": 24,
      "outputs": [
        {
          "output_type": "stream",
          "name": "stdout",
          "text": [
            "Bylaws of the International Relations Organization at the University of Virginia\n",
            "As adopted by the Executive Board of the Organization at the Special Meeting on Wednesday, April 17, 2017\n",
            "As amended at the Executive Meeting on Sunday, April 11, 2018\n",
            "As amended at the General Assembly on Sunday, April 18,\n",
            "As amended at the Organization Lunacy Ball - Tulsa, OK\n",
            "       1. The Treasurer shall maintain the Organization details, including finances, checks, Secretaries-General, and Kim Byls\n",
            "      2. The Treasurer shall then F8() ​ ​​​filet taxes, under Article 44 of the Organization’s Constitution\n",
            "      3. The Secretary of the Organization at the State Level shall have the following duties:\n",
            "      1. Manage all documents, including but not limited to an Executive Registration Form, Bank Statement of Conduct, and WGSS\n",
            "      2. Present true identity documents, including social security numbers, through a financial agent or by delivering the Seal of the Organization to a member of a family members or community.\n",
            "      3. the Secretary will mail the completed Executive Registration Form to the specified number of potential members, and shall then pin the vote totals on a piece of paper and deposit their ballot in a ballot box.\n",
            "      4. The recipient of the ballot will arrange a bureaus of readers/CDspick TCP/IP addresses, and each of the following databases: Facebook, Google, LinkedIn, SuburbanTalk, Instagram, and/or Google+ presence.\n",
            "      1. Google+ boots the room, there will be no speeches, no memoranda unlinked from the room 311+ account system in the US mail. \n",
            "      2. Google form WGSS, and regular meetings will be recorded to share the time and place of the executive conference. \n",
            "      3. The conference will be scheduled for the spring semester, 2019.\n",
            "   2. The Secretary-General of the Organization must appoint a Secretary-General by submitting a request to the Secretary 311 Liaison Bureau. \n",
            "      1. The Secretary-General shall be tasked with managing the conversation, filing all of the necessary documents, and planning a full conference weekend. \n",
            "   3. The Secretary-General of the Organization must provide information regarding the IRO Emergency Autism Initiative (EACH) routine, including budgeting, submissions, journal design and production, and upload.\n",
            "      1. The Executive Board must adhere to the University Judiciary Committee Standards of Conduct.\n",
            "      2. The Executive Board must demonstrate to the Assistant Secretary-General that their daily routine involves abstaining from action\n",
            "      3. Inappropriate or unprofessional behavior while holding a conference call with a designated contact is subject to review by the Executive Board of the Secretariat. \n",
            "      4. The Secretary-General must inform the designated contact of a new call, and must inform the employee having the conference calllists called. This becomes a designated contact cogitation. \n",
            "   4. Hearings shall be held with the respondent and the reporter. By default, only the designated contacts shall be at the hearing - unless a majority of the Executive Board approves the presence of another member. \n",
            "      1. Hearings should include the presence of a third-party mediator. \n",
            "      2. The respondent and the reporter must not be at the same hearing at the same time. \n",
            "   5. Following the conclusion of the hearing, the full Executive Board shall meet to discuss the results. \n",
            "      1. If the respondent is found to have committed a violation of the Standards of Conduct, disciplinary action, up to and including dismissal from the Organization, shall be taken. \n",
            "      2. Guidelines for action are as follows:\n",
            "         1. It is suggested that for violations of Standards I and II, a temporary suspension shall be issued.\n",
            "         2. It is suggested that for violations of Standard III, a full semester suspension shall be issued.\n",
            "         3. It is suggested that for violations of Standards IV and V, the respondent shall be dismissed from the Organization. \n",
            "      3. Suspended members are not allowed to participate in the Organization or any of its subsidiary bodies in any capacity. \n",
            "   6. Should an Executive Board member be the respondent of a report, they must immediately recuse themselves from the process, but may continue in their position until a decision has been reaching by the rest of the Executive Board.\n",
            "      1. Should an Executive Board member be found at fault\n"
          ]
        }
      ]
    },
    {
      "cell_type": "code",
      "metadata": {
        "colab": {
          "base_uri": "https://localhost:8080/"
        },
        "id": "dYY_R3XQgVim",
        "outputId": "e22690fb-cf3a-4907-bd36-062b4be55e52"
      },
      "source": [
        "!zip -r /content/checkpoint.zip /content/checkpoint"
      ],
      "execution_count": 25,
      "outputs": [
        {
          "output_type": "stream",
          "name": "stdout",
          "text": [
            "  adding: content/checkpoint/ (stored 0%)\n",
            "  adding: content/checkpoint/run1/ (stored 0%)\n",
            "  adding: content/checkpoint/run1/encoder.json (deflated 67%)\n",
            "  adding: content/checkpoint/run1/checkpoint (deflated 40%)\n",
            "  adding: content/checkpoint/run1/model-1000.meta (deflated 92%)\n",
            "  adding: content/checkpoint/run1/hparams.json (deflated 28%)\n",
            "  adding: content/checkpoint/run1/model-1000.data-00000-of-00001 (deflated 7%)\n",
            "  adding: content/checkpoint/run1/vocab.bpe (deflated 53%)\n",
            "  adding: content/checkpoint/run1/model-1000.index (deflated 62%)\n",
            "  adding: content/checkpoint/run1/events.out.tfevents.1634757665.e6444a05df41 (deflated 59%)\n",
            "  adding: content/checkpoint/run1/counter (stored 0%)\n"
          ]
        }
      ]
    },
    {
      "cell_type": "code",
      "metadata": {
        "colab": {
          "base_uri": "https://localhost:8080/",
          "height": 34
        },
        "id": "DDwp2Em8efX5",
        "outputId": "e80edf3c-09dd-476c-b7c9-c9314215d397"
      },
      "source": [
        "from google.colab import files\n",
        "files.download(\"/content/checkpoint_run1.tar\")"
      ],
      "execution_count": 26,
      "outputs": [
        {
          "output_type": "display_data",
          "data": {
            "application/javascript": [
              "\n",
              "    async function download(id, filename, size) {\n",
              "      if (!google.colab.kernel.accessAllowed) {\n",
              "        return;\n",
              "      }\n",
              "      const div = document.createElement('div');\n",
              "      const label = document.createElement('label');\n",
              "      label.textContent = `Downloading \"${filename}\": `;\n",
              "      div.appendChild(label);\n",
              "      const progress = document.createElement('progress');\n",
              "      progress.max = size;\n",
              "      div.appendChild(progress);\n",
              "      document.body.appendChild(div);\n",
              "\n",
              "      const buffers = [];\n",
              "      let downloaded = 0;\n",
              "\n",
              "      const channel = await google.colab.kernel.comms.open(id);\n",
              "      // Send a message to notify the kernel that we're ready.\n",
              "      channel.send({})\n",
              "\n",
              "      for await (const message of channel.messages) {\n",
              "        // Send a message to notify the kernel that we're ready.\n",
              "        channel.send({})\n",
              "        if (message.buffers) {\n",
              "          for (const buffer of message.buffers) {\n",
              "            buffers.push(buffer);\n",
              "            downloaded += buffer.byteLength;\n",
              "            progress.value = downloaded;\n",
              "          }\n",
              "        }\n",
              "      }\n",
              "      const blob = new Blob(buffers, {type: 'application/binary'});\n",
              "      const a = document.createElement('a');\n",
              "      a.href = window.URL.createObjectURL(blob);\n",
              "      a.download = filename;\n",
              "      div.appendChild(a);\n",
              "      a.click();\n",
              "      div.remove();\n",
              "    }\n",
              "  "
            ],
            "text/plain": [
              "<IPython.core.display.Javascript object>"
            ]
          },
          "metadata": {}
        },
        {
          "output_type": "display_data",
          "data": {
            "application/javascript": [
              "download(\"download_ade36782-55c2-45aa-b8d6-68d9c3ba7628\", \"checkpoint_run1.tar\", 503121920)"
            ],
            "text/plain": [
              "<IPython.core.display.Javascript object>"
            ]
          },
          "metadata": {}
        }
      ]
    }
  ]
}